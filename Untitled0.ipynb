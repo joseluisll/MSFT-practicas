{
  "nbformat": 4,
  "nbformat_minor": 0,
  "metadata": {
    "colab": {
      "provenance": [],
      "authorship_tag": "ABX9TyNRS1d73J+++RzT48Ss4NMQ",
      "include_colab_link": true
    },
    "kernelspec": {
      "name": "python3",
      "display_name": "Python 3"
    },
    "language_info": {
      "name": "python"
    }
  },
  "cells": [
    {
      "cell_type": "markdown",
      "metadata": {
        "id": "view-in-github",
        "colab_type": "text"
      },
      "source": [
        "<a href=\"https://colab.research.google.com/github/joseluisll/MSFT-practicas/blob/Otra-branch/Untitled0.ipynb\" target=\"_parent\"><img src=\"https://colab.research.google.com/assets/colab-badge.svg\" alt=\"Open In Colab\"/></a>"
      ]
    },
    {
      "cell_type": "code",
      "execution_count": null,
      "metadata": {
        "colab": {
          "base_uri": "https://localhost:8080/"
        },
        "id": "aCTWCzhGP4P9",
        "outputId": "1b5b0cb4-1497-4c48-c55e-d24677b958e5"
      },
      "outputs": [
        {
          "output_type": "stream",
          "name": "stdout",
          "text": [
            " commit con google colab\n"
          ]
        }
      ],
      "source": [
        "print(\" commit con google colab\")"
      ]
    },
    {
      "cell_type": "code",
      "source": [
        "print otro vodigo"
      ],
      "metadata": {
        "id": "Qg6Oq5XKVQ86"
      },
      "execution_count": null,
      "outputs": []
    }
  ]
}